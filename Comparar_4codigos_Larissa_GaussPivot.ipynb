{
  "nbformat": 4,
  "nbformat_minor": 0,
  "metadata": {
    "colab": {
      "name": "Comparar_4codigos_Larissa_GaussPivot.ipynb",
      "provenance": [],
      "collapsed_sections": [],
      "include_colab_link": true
    },
    "kernelspec": {
      "name": "python3",
      "display_name": "Python 3"
    }
  },
  "cells": [
    {
      "cell_type": "markdown",
      "metadata": {
        "id": "view-in-github",
        "colab_type": "text"
      },
      "source": [
        "<a href=\"https://colab.research.google.com/github/larissapaiva92/Metodos_Numericos/blob/master/Comparar_4codigos_Larissa_GaussPivot.ipynb\" target=\"_parent\"><img src=\"https://colab.research.google.com/assets/colab-badge.svg\" alt=\"Open In Colab\"/></a>"
      ]
    },
    {
      "cell_type": "code",
      "metadata": {
        "id": "eK9P8bynKAO0",
        "colab_type": "code",
        "colab": {}
      },
      "source": [
        "import numpy as np\n",
        "import numpy.linalg as npla\n",
        "import time\n",
        "import matplotlib.pyplot as plt"
      ],
      "execution_count": 11,
      "outputs": []
    },
    {
      "cell_type": "code",
      "metadata": {
        "id": "pQjysWjVJ9HV",
        "colab_type": "code",
        "colab": {
          "base_uri": "https://localhost:8080/",
          "height": 145
        },
        "outputId": "b07f65cb-a97d-4f9f-8b55-3e1029321967"
      },
      "source": [
        "!git clone https://github.com/larissapaiva92/Metodos_Numericos #clonar do Github\n",
        "%cd Metodos_Numericos"
      ],
      "execution_count": 12,
      "outputs": [
        {
          "output_type": "stream",
          "text": [
            "Cloning into 'Metodos_Numericos'...\n",
            "remote: Enumerating objects: 29, done.\u001b[K\n",
            "remote: Counting objects: 100% (29/29), done.\u001b[K\n",
            "remote: Compressing objects: 100% (27/27), done.\u001b[K\n",
            "remote: Total 29 (delta 10), reused 0 (delta 0), pack-reused 0\u001b[K\n",
            "Unpacking objects: 100% (29/29), done.\n",
            "/content/Metodos_Numericos/Metodos_Numericos/Metodos_Numericos\n"
          ],
          "name": "stdout"
        }
      ]
    },
    {
      "cell_type": "code",
      "metadata": {
        "id": "0T_GJdknKHWA",
        "colab_type": "code",
        "colab": {}
      },
      "source": [
        "from GaussPivot import gauss\n",
        "from GaussSeidel import gauss_seidel\n",
        "from Jacobi import jacobi\n",
        "from SystemSOR import SOR"
      ],
      "execution_count": 13,
      "outputs": []
    },
    {
      "cell_type": "code",
      "metadata": {
        "id": "agJqchMqIku3",
        "colab_type": "code",
        "colab": {
          "base_uri": "https://localhost:8080/",
          "height": 425
        },
        "outputId": "fc8fcfd5-5fe7-4356-d2cb-dd60b8952157"
      },
      "source": [
        "# size of the matrix to be calculated\n",
        "SIZE = [10,50,100,1000]\n",
        "\n",
        "# create list\n",
        "cpu_time_numpy = []\n",
        "cpu_time_pivot = []\n",
        "cpu_time_siedel = []\n",
        "cpu_time_jacobi = []\n",
        "cpu_time_SOR = []\n",
        "\n",
        "# loop over the size\n",
        "for size in SIZE :\n",
        "  # create the system\n",
        "  A = np.random.rand(size,size)\n",
        "  f = np.random.rand(size)\n",
        "  x0 = np.random.rand(size)\n",
        "\n",
        "  # nummpy\n",
        "  t0 = time.clock()\n",
        "  w=npla.solve(A,f)\n",
        "  cpu_time_numpy.append(time.clock()-t0)\n",
        "\n",
        "  # pivot\n",
        "  t0 = time.clock()\n",
        "  x= gauss(A,f)\n",
        "  cpu_time_pivot.append(time.clock()-t0)\n",
        "\n",
        "    # siedel\n",
        "  t0 = time.clock()\n",
        "  x= gauss_seidel(A,f,x0)\n",
        "  cpu_time_siedel.append(time.clock()-t0)\n",
        "\n",
        "    # jacob\n",
        "  t0 = time.clock()\n",
        "  x= jacobi(A,f,x0)\n",
        "  cpu_time_jacobi.append(time.clock()-t0)\n",
        "\n",
        "   # SOR\n",
        "  t0 = time.clock()\n",
        "  x= SOR(A,f,x0)\n",
        "  cpu_time_SOR.append(time.clock()-t0)\n",
        "\n",
        "# plot the results\n",
        "plt.semilogy(SIZE,cpu_time_numpy,'o-',linewidth=4, color='black',label='Numpy')\n",
        "plt.semilogy(SIZE,cpu_time_pivot,'o-',linewidth=4, color='tan',label='Pivotamento')\n",
        "plt.semilogy(SIZE,cpu_time_siedel,'o-',linewidth=4, color='blue',label='Siedel')\n",
        "plt.semilogy(SIZE,cpu_time_jacobi,'o-',linewidth=4, color='gray',label='Jacobi')\n",
        "plt.semilogy(SIZE,cpu_time_SOR,'o-',linewidth=4, color='green',label='SOR')\n",
        "plt.xlabel('Size of the system'  )\n",
        "plt.ylabel('Computation Time')\n",
        "plt.xlim([0,1000])\n",
        "plt.legend(loc=2)\n",
        "plt.show()"
      ],
      "execution_count": 14,
      "outputs": [
        {
          "output_type": "stream",
          "text": [
            "/content/Metodos_Numericos/GaussSeidel.py:40: RuntimeWarning: overflow encountered in double_scalars\n",
            "  x_new[i] = (f[i]-sum1-sum2)/A[i,i]\n",
            "/content/Metodos_Numericos/GaussSeidel.py:35: RuntimeWarning: invalid value encountered in double_scalars\n",
            "  sum1 += A[i,j]*x_new[j]\n",
            "/content/Metodos_Numericos/Metodos_Numericos/SystemSOR.py:11: RuntimeWarning: overflow encountered in double_scalars\n",
            "  x2[i]=(-a[i].dot(x2)+b[i])*w/a[i,i]+x2[i]\n",
            "/content/Metodos_Numericos/Metodos_Numericos/Jacobi.py:32: RuntimeWarning: overflow encountered in double_scalars\n",
            "  sum += A[i,j]*x[j]\n"
          ],
          "name": "stderr"
        },
        {
          "output_type": "display_data",
          "data": {
            "image/png": "[encoded data removed]",
            "text/plain": [
              "<Figure size 432x288 with 1 Axes>"
            ]
          },
          "metadata": {
            "tags": [],
            "needs_background": "light"
          }
        }
      ]
    }
  ]
}